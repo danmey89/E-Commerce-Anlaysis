{
 "cells": [
  {
   "cell_type": "markdown",
   "id": "642249c3-0c7e-4e03-ae22-3509d4771ce0",
   "metadata": {},
   "source": [
    "# E-Commerce Data"
   ]
  },
  {
   "cell_type": "markdown",
   "id": "aecd22cd-d55e-4b50-b8d4-8c71485e1b64",
   "metadata": {},
   "source": [
    "### Dataset Information\n",
    "\n",
    "This is a transnational data set which contains all the transactions occurring between  \n",
    "01/12/2010 and 09/12/2011 for a UK-based and registered non-store online retail.  \n",
    "The company mainly sells unique all-occasion gifts. Many customers of the company are wholesalers."
   ]
  },
  {
   "cell_type": "markdown",
   "id": "80922b3c-3d04-40d8-8222-c7a77e7db1a8",
   "metadata": {},
   "source": [
    "### Additional Variable Information\n",
    "\n",
    "* InvoiceNo: Invoice number. Nominal, a 6-digit integral number uniquely assigned to each transaction.\n",
    "    * If this code starts with letter 'c', it indicates a cancellation.   \n",
    "* StockCode: Product (item) code. Nominal, a 5-digit integral number uniquely assigned to each distinct product.  \n",
    "* Description: Product (item) name. Nominal.  \n",
    "* Quantity: The quantities of each product (item) per transaction. Numeric.\t  \n",
    "* InvoiceDate: Invoice Date and time. Numeric, the day and time when each transaction was generated.  \n",
    "* UnitPrice: Unit price. Numeric, Product price per unit in sterling.  \n",
    "* CustomerID: Customer number. Nominal, a 5-digit integral number uniquely assigned to each customer.  \n",
    "* Country: Country name. Nominal, the name of the country where each customer resides.\n",
    "\n",
    "\n",
    "  Data source: https://archive.ics.uci.edu/dataset/352/online+retail"
   ]
  },
  {
   "cell_type": "code",
   "execution_count": 1,
   "id": "30f7e7c4-3473-4065-8e5f-1b44d36dce22",
   "metadata": {},
   "outputs": [],
   "source": [
    "import pandas as pd\n",
    "import numpy as np\n",
    "import matplotlib.pyplot as plt"
   ]
  },
  {
   "cell_type": "code",
   "execution_count": 2,
   "id": "976b3aea-f235-4547-91dc-9f15342db0e4",
   "metadata": {},
   "outputs": [],
   "source": [
    "%matplotlib inline"
   ]
  },
  {
   "cell_type": "code",
   "execution_count": 3,
   "id": "ec43eeea-5fcb-48c4-ae5f-6c494a1b4f23",
   "metadata": {},
   "outputs": [],
   "source": [
    "data = pd.read_excel('Online Retail.xlsx')"
   ]
  },
  {
   "cell_type": "markdown",
   "id": "9eeea48b-ee06-4f7b-ba7f-e68f8859e998",
   "metadata": {},
   "source": [
    "# Data Exploration"
   ]
  },
  {
   "cell_type": "code",
   "execution_count": 4,
   "id": "1e622b3c-6419-4dca-8424-483022ade18e",
   "metadata": {},
   "outputs": [
    {
     "data": {
      "text/html": [
       "<div>\n",
       "<style scoped>\n",
       "    .dataframe tbody tr th:only-of-type {\n",
       "        vertical-align: middle;\n",
       "    }\n",
       "\n",
       "    .dataframe tbody tr th {\n",
       "        vertical-align: top;\n",
       "    }\n",
       "\n",
       "    .dataframe thead th {\n",
       "        text-align: right;\n",
       "    }\n",
       "</style>\n",
       "<table border=\"1\" class=\"dataframe\">\n",
       "  <thead>\n",
       "    <tr style=\"text-align: right;\">\n",
       "      <th></th>\n",
       "      <th>InvoiceNo</th>\n",
       "      <th>StockCode</th>\n",
       "      <th>Description</th>\n",
       "      <th>Quantity</th>\n",
       "      <th>InvoiceDate</th>\n",
       "      <th>UnitPrice</th>\n",
       "      <th>CustomerID</th>\n",
       "      <th>Country</th>\n",
       "    </tr>\n",
       "  </thead>\n",
       "  <tbody>\n",
       "    <tr>\n",
       "      <th>0</th>\n",
       "      <td>536365</td>\n",
       "      <td>85123A</td>\n",
       "      <td>WHITE HANGING HEART T-LIGHT HOLDER</td>\n",
       "      <td>6</td>\n",
       "      <td>2010-12-01 08:26:00</td>\n",
       "      <td>2.55</td>\n",
       "      <td>17850.0</td>\n",
       "      <td>United Kingdom</td>\n",
       "    </tr>\n",
       "    <tr>\n",
       "      <th>1</th>\n",
       "      <td>536365</td>\n",
       "      <td>71053</td>\n",
       "      <td>WHITE METAL LANTERN</td>\n",
       "      <td>6</td>\n",
       "      <td>2010-12-01 08:26:00</td>\n",
       "      <td>3.39</td>\n",
       "      <td>17850.0</td>\n",
       "      <td>United Kingdom</td>\n",
       "    </tr>\n",
       "    <tr>\n",
       "      <th>2</th>\n",
       "      <td>536365</td>\n",
       "      <td>84406B</td>\n",
       "      <td>CREAM CUPID HEARTS COAT HANGER</td>\n",
       "      <td>8</td>\n",
       "      <td>2010-12-01 08:26:00</td>\n",
       "      <td>2.75</td>\n",
       "      <td>17850.0</td>\n",
       "      <td>United Kingdom</td>\n",
       "    </tr>\n",
       "    <tr>\n",
       "      <th>3</th>\n",
       "      <td>536365</td>\n",
       "      <td>84029G</td>\n",
       "      <td>KNITTED UNION FLAG HOT WATER BOTTLE</td>\n",
       "      <td>6</td>\n",
       "      <td>2010-12-01 08:26:00</td>\n",
       "      <td>3.39</td>\n",
       "      <td>17850.0</td>\n",
       "      <td>United Kingdom</td>\n",
       "    </tr>\n",
       "    <tr>\n",
       "      <th>4</th>\n",
       "      <td>536365</td>\n",
       "      <td>84029E</td>\n",
       "      <td>RED WOOLLY HOTTIE WHITE HEART.</td>\n",
       "      <td>6</td>\n",
       "      <td>2010-12-01 08:26:00</td>\n",
       "      <td>3.39</td>\n",
       "      <td>17850.0</td>\n",
       "      <td>United Kingdom</td>\n",
       "    </tr>\n",
       "  </tbody>\n",
       "</table>\n",
       "</div>"
      ],
      "text/plain": [
       "  InvoiceNo StockCode                          Description  Quantity  \\\n",
       "0    536365    85123A   WHITE HANGING HEART T-LIGHT HOLDER         6   \n",
       "1    536365     71053                  WHITE METAL LANTERN         6   \n",
       "2    536365    84406B       CREAM CUPID HEARTS COAT HANGER         8   \n",
       "3    536365    84029G  KNITTED UNION FLAG HOT WATER BOTTLE         6   \n",
       "4    536365    84029E       RED WOOLLY HOTTIE WHITE HEART.         6   \n",
       "\n",
       "          InvoiceDate  UnitPrice  CustomerID         Country  \n",
       "0 2010-12-01 08:26:00       2.55     17850.0  United Kingdom  \n",
       "1 2010-12-01 08:26:00       3.39     17850.0  United Kingdom  \n",
       "2 2010-12-01 08:26:00       2.75     17850.0  United Kingdom  \n",
       "3 2010-12-01 08:26:00       3.39     17850.0  United Kingdom  \n",
       "4 2010-12-01 08:26:00       3.39     17850.0  United Kingdom  "
      ]
     },
     "execution_count": 4,
     "metadata": {},
     "output_type": "execute_result"
    }
   ],
   "source": [
    "data.head()"
   ]
  },
  {
   "cell_type": "code",
   "execution_count": 5,
   "id": "8afecfcb-2572-4f7a-b490-3793f85d1684",
   "metadata": {},
   "outputs": [
    {
     "name": "stdout",
     "output_type": "stream",
     "text": [
      "<class 'pandas.core.frame.DataFrame'>\n",
      "RangeIndex: 541909 entries, 0 to 541908\n",
      "Data columns (total 8 columns):\n",
      " #   Column       Non-Null Count   Dtype         \n",
      "---  ------       --------------   -----         \n",
      " 0   InvoiceNo    541909 non-null  object        \n",
      " 1   StockCode    541909 non-null  object        \n",
      " 2   Description  540455 non-null  object        \n",
      " 3   Quantity     541909 non-null  int64         \n",
      " 4   InvoiceDate  541909 non-null  datetime64[ns]\n",
      " 5   UnitPrice    541909 non-null  float64       \n",
      " 6   CustomerID   406829 non-null  float64       \n",
      " 7   Country      541909 non-null  object        \n",
      "dtypes: datetime64[ns](1), float64(2), int64(1), object(4)\n",
      "memory usage: 33.1+ MB\n"
     ]
    }
   ],
   "source": [
    "data.info()"
   ]
  },
  {
   "cell_type": "code",
   "execution_count": 6,
   "id": "5bccf162-f5d8-4922-b712-c7c6d6ae4c8c",
   "metadata": {},
   "outputs": [
    {
     "name": "stdout",
     "output_type": "stream",
     "text": [
      "<class 'pandas.core.frame.DataFrame'>\n",
      "Index: 406829 entries, 0 to 541908\n",
      "Data columns (total 8 columns):\n",
      " #   Column       Non-Null Count   Dtype         \n",
      "---  ------       --------------   -----         \n",
      " 0   InvoiceNo    406829 non-null  object        \n",
      " 1   StockCode    406829 non-null  object        \n",
      " 2   Description  406829 non-null  object        \n",
      " 3   Quantity     406829 non-null  int64         \n",
      " 4   InvoiceDate  406829 non-null  datetime64[ns]\n",
      " 5   UnitPrice    406829 non-null  float64       \n",
      " 6   CustomerID   406829 non-null  float64       \n",
      " 7   Country      406829 non-null  object        \n",
      "dtypes: datetime64[ns](1), float64(2), int64(1), object(4)\n",
      "memory usage: 27.9+ MB\n"
     ]
    }
   ],
   "source": [
    "data.dropna().info()"
   ]
  },
  {
   "cell_type": "markdown",
   "id": "105b41f0-55f2-4d3d-95d2-1be206dd27b6",
   "metadata": {},
   "source": [
    "**Check for, and remove missing values**"
   ]
  },
  {
   "cell_type": "code",
   "execution_count": 181,
   "id": "235d7202-f1f3-4a63-9178-d93016d1f232",
   "metadata": {},
   "outputs": [],
   "source": [
    "data.dropna(inplace=True)"
   ]
  },
  {
   "cell_type": "markdown",
   "id": "0ba19470-8017-41a2-9ada-a51ece03c6cd",
   "metadata": {},
   "source": [
    "**Create additional Variables from Data**"
   ]
  },
  {
   "cell_type": "code",
   "execution_count": 8,
   "id": "1c662e01-6665-4c53-966e-2963fcb7796d",
   "metadata": {},
   "outputs": [],
   "source": [
    "data['TotalPrice']  = data['Quantity']*data['UnitPrice']"
   ]
  },
  {
   "cell_type": "code",
   "execution_count": 9,
   "id": "aea6fe37-6bd0-4743-856c-d37dc700ebf1",
   "metadata": {},
   "outputs": [],
   "source": [
    "data['Region'] = np.where(data['Country']=='United Kingdom', 'UK', 'non UK')"
   ]
  },
  {
   "cell_type": "code",
   "execution_count": 10,
   "id": "b9f5122f-18f1-4665-9739-31ce48a5907f",
   "metadata": {},
   "outputs": [
    {
     "data": {
      "text/plain": [
       "Region\n",
       "UK        361878\n",
       "non UK     44951\n",
       "Name: count, dtype: int64"
      ]
     },
     "execution_count": 10,
     "metadata": {},
     "output_type": "execute_result"
    }
   ],
   "source": [
    "data['Region'].value_counts()"
   ]
  },
  {
   "cell_type": "code",
   "execution_count": 11,
   "id": "5d8e5a5d-8db0-405b-ba23-473713275966",
   "metadata": {},
   "outputs": [],
   "source": [
    "data['Year'] = data['InvoiceDate'].apply(lambda x: x.year)\n",
    "data['Month'] = data['InvoiceDate'].apply(lambda x: x.month)\n",
    "data['Quarter'] = data['InvoiceDate'].apply(lambda x: x.quarter)\n",
    "data['Week'] = data['InvoiceDate'].apply(lambda x: x.week)"
   ]
  },
  {
   "cell_type": "markdown",
   "id": "b82b321d-92b0-408e-bc78-47f4c2e1019e",
   "metadata": {},
   "source": [
    "### Net Sales by Week, Month and Quarter"
   ]
  },
  {
   "cell_type": "code",
   "execution_count": 180,
   "id": "fd36c4fa-9c2c-4792-87a8-512d24e1725b",
   "metadata": {},
   "outputs": [
    {
     "data": {
      "text/plain": [
       "Text(0.5, 0.98, 'Net Sales by Week, Month and Quarter')"
      ]
     },
     "execution_count": 180,
     "metadata": {},
     "output_type": "execute_result"
    },
    {
     "data": {
      "image/png": "[encoded data removed]",
      "text/plain": [
       "<Figure size 1500x500 with 3 Axes>"
      ]
     },
     "metadata": {},
     "output_type": "display_data"
    }
   ],
   "source": [
    "fig, ax = plt.subplots(1,3, figsize=(15,5))\n",
    "    \n",
    "ax[0].plot(data.sort_values('Week')['Week'].unique(), data.sort_values('Week')\\\n",
    "           .groupby('Week')['TotalPrice'].sum()/100000, color='g')\n",
    "    \n",
    "\n",
    "ax[0].set_title('Weekly net sales')\n",
    "ax[0].set_xlabel('Week')\n",
    "ax[0].set_ylabel('100,000 GBP')\n",
    "\n",
    "\n",
    "spec_q = ['1st', '2nd', '3rd', '4th']\n",
    "bottom_q=np.zeros(4)\n",
    "width = 0.6\n",
    "\n",
    "regions_q = {\n",
    "    'UK': data.sort_values('Quarter')[data.sort_values('Quarter')['Region']=='UK']\\\n",
    "        .groupby('Quarter')['TotalPrice'].sum()/100000,\n",
    "    \n",
    "    'non UK': data.sort_values('Quarter')[data.sort_values('Quarter')['Region']=='non UK']\\\n",
    "        .groupby('Quarter')['TotalPrice'].sum()/100000\n",
    "}\n",
    "\n",
    "for k, v in regions_q.items():\n",
    "    p = ax[2].bar(spec_q, v, width, label=k, bottom=bottom_q)\n",
    "    bottom_q += v\n",
    "\n",
    "    ax[2].bar_label(p, fmt='%.2f', label_type='center')\n",
    "\n",
    "ax[2].set_title('Quarterly net sales by region')\n",
    "ax[2].legend()\n",
    "ax[2].set_xlabel('Quarter')\n",
    "ax[2].set_ylabel('100,000 GBP')\n",
    "\n",
    "\n",
    "spec_m = data.sort_values('Month')['Month'].unique()\n",
    "bottom_m=np.zeros(len(spec_m))\n",
    "width = 0.6\n",
    "\n",
    "regions_m = {\n",
    "    'UK': data.sort_values('Month')[data.sort_values('Month')['Region']=='UK']\\\n",
    "        .groupby('Month')['TotalPrice'].sum()/100000,\n",
    "    \n",
    "    'non UK': data.sort_values('Month')[data.sort_values('Month')['Region']=='non UK']\\\n",
    "        .groupby('Month')['TotalPrice'].sum()/100000\n",
    "}\n",
    "\n",
    "for k, v in regions_m.items():\n",
    "    p = ax[1].bar(spec_m, v, width, label=k, bottom=bottom_m)\n",
    "    bottom_m += v\n",
    "\n",
    "    ax[1].bar_label(p, fmt='%.2f', label_type='center', rotation=90)\n",
    "\n",
    "ax[1].set_title('Montly net sales by region')\n",
    "ax[1].legend()\n",
    "ax[1].set_xlabel('Month')\n",
    "ax[1].set_ylabel('100,000 GBP')\n",
    "ax[1].set_xticks(spec_m)\n",
    "\n",
    "fig.suptitle('Net Sales by Week, Month and Quarter')"
   ]
  },
  {
   "cell_type": "markdown",
   "id": "e39a0097-ed03-4652-afae-d22f8a7c977f",
   "metadata": {},
   "source": [
    "## Sales by Product"
   ]
  },
  {
   "cell_type": "markdown",
   "id": "fbe7def5-3ce1-4bc9-83d1-f72bfd8968e5",
   "metadata": {},
   "source": [
    "**Products with highest net sales by value:**"
   ]
  },
  {
   "cell_type": "code",
   "execution_count": 14,
   "id": "9ab11db0-0fa8-4d19-a9f7-6556e87279a4",
   "metadata": {},
   "outputs": [
    {
     "data": {
      "text/html": [
       "<div>\n",
       "<style scoped>\n",
       "    .dataframe tbody tr th:only-of-type {\n",
       "        vertical-align: middle;\n",
       "    }\n",
       "\n",
       "    .dataframe tbody tr th {\n",
       "        vertical-align: top;\n",
       "    }\n",
       "\n",
       "    .dataframe thead th {\n",
       "        text-align: right;\n",
       "    }\n",
       "</style>\n",
       "<table border=\"1\" class=\"dataframe\">\n",
       "  <thead>\n",
       "    <tr style=\"text-align: right;\">\n",
       "      <th></th>\n",
       "      <th></th>\n",
       "      <th>TotalPrice</th>\n",
       "      <th>Quantity</th>\n",
       "    </tr>\n",
       "    <tr>\n",
       "      <th>StockCode</th>\n",
       "      <th>Description</th>\n",
       "      <th></th>\n",
       "      <th></th>\n",
       "    </tr>\n",
       "  </thead>\n",
       "  <tbody>\n",
       "    <tr>\n",
       "      <th>22423</th>\n",
       "      <th>REGENCY CAKESTAND 3 TIER</th>\n",
       "      <td>132870.40</td>\n",
       "      <td>11555</td>\n",
       "    </tr>\n",
       "    <tr>\n",
       "      <th>85123A</th>\n",
       "      <th>WHITE HANGING HEART T-LIGHT HOLDER</th>\n",
       "      <td>93823.85</td>\n",
       "      <td>34147</td>\n",
       "    </tr>\n",
       "    <tr>\n",
       "      <th>85099B</th>\n",
       "      <th>JUMBO BAG RED RETROSPOT</th>\n",
       "      <td>83236.76</td>\n",
       "      <td>45066</td>\n",
       "    </tr>\n",
       "    <tr>\n",
       "      <th>47566</th>\n",
       "      <th>PARTY BUNTING</th>\n",
       "      <td>67687.53</td>\n",
       "      <td>15027</td>\n",
       "    </tr>\n",
       "    <tr>\n",
       "      <th>POST</th>\n",
       "      <th>POSTAGE</th>\n",
       "      <td>66710.24</td>\n",
       "      <td>3002</td>\n",
       "    </tr>\n",
       "    <tr>\n",
       "      <th>84879</th>\n",
       "      <th>ASSORTED COLOUR BIRD ORNAMENT</th>\n",
       "      <td>56499.22</td>\n",
       "      <td>35314</td>\n",
       "    </tr>\n",
       "    <tr>\n",
       "      <th>23084</th>\n",
       "      <th>RABBIT NIGHT LIGHT</th>\n",
       "      <td>51137.80</td>\n",
       "      <td>27094</td>\n",
       "    </tr>\n",
       "    <tr>\n",
       "      <th>79321</th>\n",
       "      <th>CHILLI LIGHTS</th>\n",
       "      <td>45936.81</td>\n",
       "      <td>9570</td>\n",
       "    </tr>\n",
       "    <tr>\n",
       "      <th>22086</th>\n",
       "      <th>PAPER CHAIN KIT 50'S CHRISTMAS</th>\n",
       "      <td>41500.48</td>\n",
       "      <td>15164</td>\n",
       "    </tr>\n",
       "    <tr>\n",
       "      <th>22502</th>\n",
       "      <th>PICNIC BASKET WICKER 60 PIECES</th>\n",
       "      <td>39619.50</td>\n",
       "      <td>61</td>\n",
       "    </tr>\n",
       "  </tbody>\n",
       "</table>\n",
       "</div>"
      ],
      "text/plain": [
       "                                              TotalPrice  Quantity\n",
       "StockCode Description                                             \n",
       "22423     REGENCY CAKESTAND 3 TIER             132870.40     11555\n",
       "85123A    WHITE HANGING HEART T-LIGHT HOLDER    93823.85     34147\n",
       "85099B    JUMBO BAG RED RETROSPOT               83236.76     45066\n",
       "47566     PARTY BUNTING                         67687.53     15027\n",
       "POST      POSTAGE                               66710.24      3002\n",
       "84879     ASSORTED COLOUR BIRD ORNAMENT         56499.22     35314\n",
       "23084     RABBIT NIGHT LIGHT                    51137.80     27094\n",
       "79321     CHILLI LIGHTS                         45936.81      9570\n",
       "22086     PAPER CHAIN KIT 50'S CHRISTMAS        41500.48     15164\n",
       "22502     PICNIC BASKET WICKER 60 PIECES        39619.50        61"
      ]
     },
     "execution_count": 14,
     "metadata": {},
     "output_type": "execute_result"
    }
   ],
   "source": [
    "data.groupby(['StockCode','Description']).sum(numeric_only=True)\\\n",
    "    .sort_values('TotalPrice', ascending=False)[['TotalPrice', 'Quantity']].head(10)"
   ]
  },
  {
   "cell_type": "markdown",
   "id": "46c8ea76-2bf6-47b0-8c78-ca571d7fef51",
   "metadata": {},
   "source": [
    "**Products with lowest net sales by value:**"
   ]
  },
  {
   "cell_type": "code",
   "execution_count": 15,
   "id": "7c0e9aea-0d8e-4288-9108-ce90352c8aa7",
   "metadata": {},
   "outputs": [
    {
     "data": {
      "text/html": [
       "<div>\n",
       "<style scoped>\n",
       "    .dataframe tbody tr th:only-of-type {\n",
       "        vertical-align: middle;\n",
       "    }\n",
       "\n",
       "    .dataframe tbody tr th {\n",
       "        vertical-align: top;\n",
       "    }\n",
       "\n",
       "    .dataframe thead th {\n",
       "        text-align: right;\n",
       "    }\n",
       "</style>\n",
       "<table border=\"1\" class=\"dataframe\">\n",
       "  <thead>\n",
       "    <tr style=\"text-align: right;\">\n",
       "      <th></th>\n",
       "      <th></th>\n",
       "      <th>TotalPrice</th>\n",
       "      <th>Quantity</th>\n",
       "    </tr>\n",
       "    <tr>\n",
       "      <th>StockCode</th>\n",
       "      <th>Description</th>\n",
       "      <th></th>\n",
       "      <th></th>\n",
       "    </tr>\n",
       "  </thead>\n",
       "  <tbody>\n",
       "    <tr>\n",
       "      <th>M</th>\n",
       "      <th>Manual</th>\n",
       "      <td>-58385.46</td>\n",
       "      <td>3184</td>\n",
       "    </tr>\n",
       "    <tr>\n",
       "      <th>CRUK</th>\n",
       "      <th>CRUK Commission</th>\n",
       "      <td>-7933.43</td>\n",
       "      <td>-16</td>\n",
       "    </tr>\n",
       "    <tr>\n",
       "      <th>D</th>\n",
       "      <th>Discount</th>\n",
       "      <td>-5696.22</td>\n",
       "      <td>-1194</td>\n",
       "    </tr>\n",
       "    <tr>\n",
       "      <th>22769</th>\n",
       "      <th>CHALKBOARD KITCHEN ORGANISER</th>\n",
       "      <td>-87.80</td>\n",
       "      <td>-4</td>\n",
       "    </tr>\n",
       "    <tr>\n",
       "      <th>79323W</th>\n",
       "      <th>WHITE CHERRY LIGHTS</th>\n",
       "      <td>-54.00</td>\n",
       "      <td>-8</td>\n",
       "    </tr>\n",
       "    <tr>\n",
       "      <th>85063</th>\n",
       "      <th>CREAM SWEETHEART MAGAZINE RACK</th>\n",
       "      <td>-46.85</td>\n",
       "      <td>-3</td>\n",
       "    </tr>\n",
       "    <tr>\n",
       "      <th>35400</th>\n",
       "      <th>WOODEN BOX ADVENT CALENDAR</th>\n",
       "      <td>-45.70</td>\n",
       "      <td>-6</td>\n",
       "    </tr>\n",
       "    <tr>\n",
       "      <th>21645</th>\n",
       "      <th>ASSORTED TUTTI FRUTTI ROUND BOX</th>\n",
       "      <td>-39.60</td>\n",
       "      <td>-24</td>\n",
       "    </tr>\n",
       "    <tr>\n",
       "      <th>79323P</th>\n",
       "      <th>PINK CHERRY LIGHTS</th>\n",
       "      <td>-27.00</td>\n",
       "      <td>-4</td>\n",
       "    </tr>\n",
       "    <tr>\n",
       "      <th>20703</th>\n",
       "      <th>BLUE PADDED SOFT MOBILE</th>\n",
       "      <td>-25.50</td>\n",
       "      <td>-6</td>\n",
       "    </tr>\n",
       "  </tbody>\n",
       "</table>\n",
       "</div>"
      ],
      "text/plain": [
       "                                           TotalPrice  Quantity\n",
       "StockCode Description                                          \n",
       "M         Manual                            -58385.46      3184\n",
       "CRUK      CRUK Commission                    -7933.43       -16\n",
       "D         Discount                           -5696.22     -1194\n",
       "22769     CHALKBOARD KITCHEN ORGANISER         -87.80        -4\n",
       "79323W    WHITE CHERRY LIGHTS                  -54.00        -8\n",
       "85063     CREAM SWEETHEART MAGAZINE RACK       -46.85        -3\n",
       "35400     WOODEN BOX ADVENT CALENDAR           -45.70        -6\n",
       "21645     ASSORTED TUTTI FRUTTI ROUND BOX      -39.60       -24\n",
       "79323P    PINK CHERRY LIGHTS                   -27.00        -4\n",
       "20703     BLUE PADDED SOFT MOBILE              -25.50        -6"
      ]
     },
     "execution_count": 15,
     "metadata": {},
     "output_type": "execute_result"
    }
   ],
   "source": [
    "data.groupby(['StockCode','Description']).sum(numeric_only=True)\\\n",
    "    .sort_values('TotalPrice', ascending=True)[['TotalPrice', 'Quantity']].head(10)"
   ]
  },
  {
   "cell_type": "markdown",
   "id": "c785d26c-908b-4afa-964d-2ce9cf46f43b",
   "metadata": {},
   "source": [
    "**Products with highest net sales by quantity:**"
   ]
  },
  {
   "cell_type": "code",
   "execution_count": 16,
   "id": "ab28759b-a88c-4db0-9252-a6a55aaf9313",
   "metadata": {},
   "outputs": [
    {
     "data": {
      "text/html": [
       "<div>\n",
       "<style scoped>\n",
       "    .dataframe tbody tr th:only-of-type {\n",
       "        vertical-align: middle;\n",
       "    }\n",
       "\n",
       "    .dataframe tbody tr th {\n",
       "        vertical-align: top;\n",
       "    }\n",
       "\n",
       "    .dataframe thead th {\n",
       "        text-align: right;\n",
       "    }\n",
       "</style>\n",
       "<table border=\"1\" class=\"dataframe\">\n",
       "  <thead>\n",
       "    <tr style=\"text-align: right;\">\n",
       "      <th></th>\n",
       "      <th></th>\n",
       "      <th>Quantity</th>\n",
       "    </tr>\n",
       "    <tr>\n",
       "      <th>StockCode</th>\n",
       "      <th>Description</th>\n",
       "      <th></th>\n",
       "    </tr>\n",
       "  </thead>\n",
       "  <tbody>\n",
       "    <tr>\n",
       "      <th>84077</th>\n",
       "      <th>WORLD WAR 2 GLIDERS ASSTD DESIGNS</th>\n",
       "      <td>53215</td>\n",
       "    </tr>\n",
       "    <tr>\n",
       "      <th>85099B</th>\n",
       "      <th>JUMBO BAG RED RETROSPOT</th>\n",
       "      <td>45066</td>\n",
       "    </tr>\n",
       "    <tr>\n",
       "      <th>84879</th>\n",
       "      <th>ASSORTED COLOUR BIRD ORNAMENT</th>\n",
       "      <td>35314</td>\n",
       "    </tr>\n",
       "    <tr>\n",
       "      <th>85123A</th>\n",
       "      <th>WHITE HANGING HEART T-LIGHT HOLDER</th>\n",
       "      <td>34147</td>\n",
       "    </tr>\n",
       "    <tr>\n",
       "      <th>21212</th>\n",
       "      <th>PACK OF 72 RETROSPOT CAKE CASES</th>\n",
       "      <td>33409</td>\n",
       "    </tr>\n",
       "    <tr>\n",
       "      <th>22197</th>\n",
       "      <th>POPCORN HOLDER</th>\n",
       "      <td>30504</td>\n",
       "    </tr>\n",
       "    <tr>\n",
       "      <th>23084</th>\n",
       "      <th>RABBIT NIGHT LIGHT</th>\n",
       "      <td>27094</td>\n",
       "    </tr>\n",
       "    <tr>\n",
       "      <th>22492</th>\n",
       "      <th>MINI PAINT SET VINTAGE</th>\n",
       "      <td>25880</td>\n",
       "    </tr>\n",
       "    <tr>\n",
       "      <th>22616</th>\n",
       "      <th>PACK OF 12 LONDON TISSUES</th>\n",
       "      <td>25321</td>\n",
       "    </tr>\n",
       "    <tr>\n",
       "      <th>21977</th>\n",
       "      <th>PACK OF 60 PINK PAISLEY CAKE CASES</th>\n",
       "      <td>24163</td>\n",
       "    </tr>\n",
       "  </tbody>\n",
       "</table>\n",
       "</div>"
      ],
      "text/plain": [
       "                                              Quantity\n",
       "StockCode Description                                 \n",
       "84077     WORLD WAR 2 GLIDERS ASSTD DESIGNS      53215\n",
       "85099B    JUMBO BAG RED RETROSPOT                45066\n",
       "84879     ASSORTED COLOUR BIRD ORNAMENT          35314\n",
       "85123A    WHITE HANGING HEART T-LIGHT HOLDER     34147\n",
       "21212     PACK OF 72 RETROSPOT CAKE CASES        33409\n",
       "22197     POPCORN HOLDER                         30504\n",
       "23084     RABBIT NIGHT LIGHT                     27094\n",
       "22492     MINI PAINT SET VINTAGE                 25880\n",
       "22616     PACK OF 12 LONDON TISSUES              25321\n",
       "21977     PACK OF 60 PINK PAISLEY CAKE CASES     24163"
      ]
     },
     "execution_count": 16,
     "metadata": {},
     "output_type": "execute_result"
    }
   ],
   "source": [
    "data.groupby(['StockCode','Description']).sum(numeric_only=True)\\\n",
    "    .sort_values('Quantity', ascending=False)[['Quantity']].head(10)"
   ]
  },
  {
   "cell_type": "markdown",
   "id": "0a35ea6b-e4d4-4874-9d4b-a8fd0d06d2da",
   "metadata": {},
   "source": [
    "**Products with lowest net sales by quantity:**"
   ]
  },
  {
   "cell_type": "code",
   "execution_count": 17,
   "id": "c79e81b1-24d5-4a09-9dcd-c9b19d9be5dd",
   "metadata": {},
   "outputs": [
    {
     "data": {
      "text/html": [
       "<div>\n",
       "<style scoped>\n",
       "    .dataframe tbody tr th:only-of-type {\n",
       "        vertical-align: middle;\n",
       "    }\n",
       "\n",
       "    .dataframe tbody tr th {\n",
       "        vertical-align: top;\n",
       "    }\n",
       "\n",
       "    .dataframe thead th {\n",
       "        text-align: right;\n",
       "    }\n",
       "</style>\n",
       "<table border=\"1\" class=\"dataframe\">\n",
       "  <thead>\n",
       "    <tr style=\"text-align: right;\">\n",
       "      <th></th>\n",
       "      <th></th>\n",
       "      <th>Quantity</th>\n",
       "    </tr>\n",
       "    <tr>\n",
       "      <th>StockCode</th>\n",
       "      <th>Description</th>\n",
       "      <th></th>\n",
       "    </tr>\n",
       "  </thead>\n",
       "  <tbody>\n",
       "    <tr>\n",
       "      <th>84347</th>\n",
       "      <th>ROTATING SILVER ANGELS T-LIGHT HLDR</th>\n",
       "      <td>-1460</td>\n",
       "    </tr>\n",
       "    <tr>\n",
       "      <th>D</th>\n",
       "      <th>Discount</th>\n",
       "      <td>-1194</td>\n",
       "    </tr>\n",
       "    <tr>\n",
       "      <th>21645</th>\n",
       "      <th>ASSORTED TUTTI FRUTTI ROUND BOX</th>\n",
       "      <td>-24</td>\n",
       "    </tr>\n",
       "    <tr>\n",
       "      <th>CRUK</th>\n",
       "      <th>CRUK Commission</th>\n",
       "      <td>-16</td>\n",
       "    </tr>\n",
       "    <tr>\n",
       "      <th>21144</th>\n",
       "      <th>PINK POODLE HANGING DECORATION</th>\n",
       "      <td>-12</td>\n",
       "    </tr>\n",
       "    <tr>\n",
       "      <th>22034</th>\n",
       "      <th>ROBIN CHRISTMAS CARD</th>\n",
       "      <td>-9</td>\n",
       "    </tr>\n",
       "    <tr>\n",
       "      <th>79323W</th>\n",
       "      <th>WHITE CHERRY LIGHTS</th>\n",
       "      <td>-8</td>\n",
       "    </tr>\n",
       "    <tr>\n",
       "      <th>21412</th>\n",
       "      <th>VINTAGE GOLD TINSEL REEL</th>\n",
       "      <td>-6</td>\n",
       "    </tr>\n",
       "    <tr>\n",
       "      <th>35400</th>\n",
       "      <th>WOODEN BOX ADVENT CALENDAR</th>\n",
       "      <td>-6</td>\n",
       "    </tr>\n",
       "    <tr>\n",
       "      <th>20703</th>\n",
       "      <th>BLUE PADDED SOFT MOBILE</th>\n",
       "      <td>-6</td>\n",
       "    </tr>\n",
       "  </tbody>\n",
       "</table>\n",
       "</div>"
      ],
      "text/plain": [
       "                                               Quantity\n",
       "StockCode Description                                  \n",
       "84347     ROTATING SILVER ANGELS T-LIGHT HLDR     -1460\n",
       "D         Discount                                -1194\n",
       "21645     ASSORTED TUTTI FRUTTI ROUND BOX           -24\n",
       "CRUK      CRUK Commission                           -16\n",
       "21144     PINK POODLE HANGING DECORATION            -12\n",
       "22034     ROBIN CHRISTMAS CARD                       -9\n",
       "79323W    WHITE CHERRY LIGHTS                        -8\n",
       "21412     VINTAGE GOLD TINSEL REEL                   -6\n",
       "35400     WOODEN BOX ADVENT CALENDAR                 -6\n",
       "20703     BLUE PADDED SOFT MOBILE                    -6"
      ]
     },
     "execution_count": 17,
     "metadata": {},
     "output_type": "execute_result"
    }
   ],
   "source": [
    "data.groupby(['StockCode','Description']).sum(numeric_only=True)\\\n",
    "    .sort_values('Quantity', ascending=True)[['Quantity']].head(10)"
   ]
  },
  {
   "cell_type": "markdown",
   "id": "2dc7614b-0439-4b5f-89be-4ed3c83d1ed7",
   "metadata": {},
   "source": [
    "**Products with highest gross sales by quantity:**"
   ]
  },
  {
   "cell_type": "code",
   "execution_count": 18,
   "id": "29419188-84d0-45e2-9247-f897f30ad75b",
   "metadata": {},
   "outputs": [
    {
     "data": {
      "text/html": [
       "<div>\n",
       "<style scoped>\n",
       "    .dataframe tbody tr th:only-of-type {\n",
       "        vertical-align: middle;\n",
       "    }\n",
       "\n",
       "    .dataframe tbody tr th {\n",
       "        vertical-align: top;\n",
       "    }\n",
       "\n",
       "    .dataframe thead th {\n",
       "        text-align: right;\n",
       "    }\n",
       "</style>\n",
       "<table border=\"1\" class=\"dataframe\">\n",
       "  <thead>\n",
       "    <tr style=\"text-align: right;\">\n",
       "      <th></th>\n",
       "      <th></th>\n",
       "      <th>Quantity</th>\n",
       "    </tr>\n",
       "    <tr>\n",
       "      <th>StockCode</th>\n",
       "      <th>Description</th>\n",
       "      <th></th>\n",
       "    </tr>\n",
       "  </thead>\n",
       "  <tbody>\n",
       "    <tr>\n",
       "      <th>23843</th>\n",
       "      <th>PAPER CRAFT , LITTLE BIRDIE</th>\n",
       "      <td>80995</td>\n",
       "    </tr>\n",
       "    <tr>\n",
       "      <th>23166</th>\n",
       "      <th>MEDIUM CERAMIC TOP STORAGE JAR</th>\n",
       "      <td>77916</td>\n",
       "    </tr>\n",
       "    <tr>\n",
       "      <th>84077</th>\n",
       "      <th>WORLD WAR 2 GLIDERS ASSTD DESIGNS</th>\n",
       "      <td>54415</td>\n",
       "    </tr>\n",
       "    <tr>\n",
       "      <th>85099B</th>\n",
       "      <th>JUMBO BAG RED RETROSPOT</th>\n",
       "      <td>46181</td>\n",
       "    </tr>\n",
       "    <tr>\n",
       "      <th>85123A</th>\n",
       "      <th>WHITE HANGING HEART T-LIGHT HOLDER</th>\n",
       "      <td>36725</td>\n",
       "    </tr>\n",
       "    <tr>\n",
       "      <th>84879</th>\n",
       "      <th>ASSORTED COLOUR BIRD ORNAMENT</th>\n",
       "      <td>35362</td>\n",
       "    </tr>\n",
       "    <tr>\n",
       "      <th>21212</th>\n",
       "      <th>PACK OF 72 RETROSPOT CAKE CASES</th>\n",
       "      <td>33693</td>\n",
       "    </tr>\n",
       "    <tr>\n",
       "      <th>22197</th>\n",
       "      <th>POPCORN HOLDER</th>\n",
       "      <td>30931</td>\n",
       "    </tr>\n",
       "    <tr>\n",
       "      <th>23084</th>\n",
       "      <th>RABBIT NIGHT LIGHT</th>\n",
       "      <td>27202</td>\n",
       "    </tr>\n",
       "    <tr>\n",
       "      <th>22492</th>\n",
       "      <th>MINI PAINT SET VINTAGE</th>\n",
       "      <td>26076</td>\n",
       "    </tr>\n",
       "  </tbody>\n",
       "</table>\n",
       "</div>"
      ],
      "text/plain": [
       "                                              Quantity\n",
       "StockCode Description                                 \n",
       "23843     PAPER CRAFT , LITTLE BIRDIE            80995\n",
       "23166     MEDIUM CERAMIC TOP STORAGE JAR         77916\n",
       "84077     WORLD WAR 2 GLIDERS ASSTD DESIGNS      54415\n",
       "85099B    JUMBO BAG RED RETROSPOT                46181\n",
       "85123A    WHITE HANGING HEART T-LIGHT HOLDER     36725\n",
       "84879     ASSORTED COLOUR BIRD ORNAMENT          35362\n",
       "21212     PACK OF 72 RETROSPOT CAKE CASES        33693\n",
       "22197     POPCORN HOLDER                         30931\n",
       "23084     RABBIT NIGHT LIGHT                     27202\n",
       "22492     MINI PAINT SET VINTAGE                 26076"
      ]
     },
     "execution_count": 18,
     "metadata": {},
     "output_type": "execute_result"
    }
   ],
   "source": [
    "data[data['Quantity']>0].groupby(['StockCode','Description']).sum(numeric_only=True)\\\n",
    "    .sort_values('Quantity', ascending=False)[['Quantity']].head(10)"
   ]
  },
  {
   "cell_type": "markdown",
   "id": "46f0e138-d4a3-4ca8-98ea-fdc2f39cb4d1",
   "metadata": {},
   "source": [
    "**Products with highest return numbers**"
   ]
  },
  {
   "cell_type": "code",
   "execution_count": 19,
   "id": "02cef503-a15d-4807-aa3a-6d5134108e06",
   "metadata": {},
   "outputs": [
    {
     "data": {
      "text/html": [
       "<div>\n",
       "<style scoped>\n",
       "    .dataframe tbody tr th:only-of-type {\n",
       "        vertical-align: middle;\n",
       "    }\n",
       "\n",
       "    .dataframe tbody tr th {\n",
       "        vertical-align: top;\n",
       "    }\n",
       "\n",
       "    .dataframe thead th {\n",
       "        text-align: right;\n",
       "    }\n",
       "</style>\n",
       "<table border=\"1\" class=\"dataframe\">\n",
       "  <thead>\n",
       "    <tr style=\"text-align: right;\">\n",
       "      <th></th>\n",
       "      <th></th>\n",
       "      <th>Quantity</th>\n",
       "    </tr>\n",
       "    <tr>\n",
       "      <th>StockCode</th>\n",
       "      <th>Description</th>\n",
       "      <th></th>\n",
       "    </tr>\n",
       "  </thead>\n",
       "  <tbody>\n",
       "    <tr>\n",
       "      <th>23843</th>\n",
       "      <th>PAPER CRAFT , LITTLE BIRDIE</th>\n",
       "      <td>-80995</td>\n",
       "    </tr>\n",
       "    <tr>\n",
       "      <th>23166</th>\n",
       "      <th>MEDIUM CERAMIC TOP STORAGE JAR</th>\n",
       "      <td>-74494</td>\n",
       "    </tr>\n",
       "    <tr>\n",
       "      <th>84347</th>\n",
       "      <th>ROTATING SILVER ANGELS T-LIGHT HLDR</th>\n",
       "      <td>-9367</td>\n",
       "    </tr>\n",
       "    <tr>\n",
       "      <th>M</th>\n",
       "      <th>Manual</th>\n",
       "      <td>-3995</td>\n",
       "    </tr>\n",
       "    <tr>\n",
       "      <th>21108</th>\n",
       "      <th>FAIRY CAKE FLANNEL ASSORTED COLOUR</th>\n",
       "      <td>-3150</td>\n",
       "    </tr>\n",
       "    <tr>\n",
       "      <th>20971</th>\n",
       "      <th>PINK BLUE FELT CRAFT TRINKET BOX</th>\n",
       "      <td>-2617</td>\n",
       "    </tr>\n",
       "    <tr>\n",
       "      <th>85123A</th>\n",
       "      <th>WHITE HANGING HEART T-LIGHT HOLDER</th>\n",
       "      <td>-2578</td>\n",
       "    </tr>\n",
       "    <tr>\n",
       "      <th>21175</th>\n",
       "      <th>GIN + TONIC DIET METAL SIGN</th>\n",
       "      <td>-2030</td>\n",
       "    </tr>\n",
       "    <tr>\n",
       "      <th>22920</th>\n",
       "      <th>HERB MARKER BASIL</th>\n",
       "      <td>-1527</td>\n",
       "    </tr>\n",
       "    <tr>\n",
       "      <th>22273</th>\n",
       "      <th>FELTCRAFT DOLL MOLLY</th>\n",
       "      <td>-1447</td>\n",
       "    </tr>\n",
       "  </tbody>\n",
       "</table>\n",
       "</div>"
      ],
      "text/plain": [
       "                                               Quantity\n",
       "StockCode Description                                  \n",
       "23843     PAPER CRAFT , LITTLE BIRDIE            -80995\n",
       "23166     MEDIUM CERAMIC TOP STORAGE JAR         -74494\n",
       "84347     ROTATING SILVER ANGELS T-LIGHT HLDR     -9367\n",
       "M         Manual                                  -3995\n",
       "21108     FAIRY CAKE FLANNEL ASSORTED COLOUR      -3150\n",
       "20971     PINK BLUE FELT CRAFT TRINKET BOX        -2617\n",
       "85123A    WHITE HANGING HEART T-LIGHT HOLDER      -2578\n",
       "21175     GIN + TONIC DIET METAL SIGN             -2030\n",
       "22920     HERB MARKER BASIL                       -1527\n",
       "22273     FELTCRAFT DOLL MOLLY                    -1447"
      ]
     },
     "execution_count": 19,
     "metadata": {},
     "output_type": "execute_result"
    }
   ],
   "source": [
    "data[data['Quantity']<0].groupby(['StockCode','Description']).sum(numeric_only=True)\\\n",
    "    .sort_values('Quantity', ascending=True)[['Quantity']].head(10)"
   ]
  },
  {
   "cell_type": "markdown",
   "id": "cf753e5f-1337-4630-9ba2-edf18130991a",
   "metadata": {},
   "source": [
    "## Order Size by Region"
   ]
  },
  {
   "cell_type": "code",
   "execution_count": 20,
   "id": "63581681-d27b-4284-b6d5-4b7a0659a9e9",
   "metadata": {},
   "outputs": [
    {
     "data": {
      "text/html": [
       "<div>\n",
       "<style scoped>\n",
       "    .dataframe tbody tr th:only-of-type {\n",
       "        vertical-align: middle;\n",
       "    }\n",
       "\n",
       "    .dataframe tbody tr th {\n",
       "        vertical-align: top;\n",
       "    }\n",
       "\n",
       "    .dataframe thead th {\n",
       "        text-align: right;\n",
       "    }\n",
       "</style>\n",
       "<table border=\"1\" class=\"dataframe\">\n",
       "  <thead>\n",
       "    <tr style=\"text-align: right;\">\n",
       "      <th></th>\n",
       "      <th>Quantity</th>\n",
       "    </tr>\n",
       "    <tr>\n",
       "      <th>Region</th>\n",
       "      <th></th>\n",
       "    </tr>\n",
       "  </thead>\n",
       "  <tbody>\n",
       "    <tr>\n",
       "      <th>UK</th>\n",
       "      <td>12.048913</td>\n",
       "    </tr>\n",
       "    <tr>\n",
       "      <th>non UK</th>\n",
       "      <td>20.932651</td>\n",
       "    </tr>\n",
       "  </tbody>\n",
       "</table>\n",
       "</div>"
      ],
      "text/plain": [
       "         Quantity\n",
       "Region           \n",
       "UK      12.048913\n",
       "non UK  20.932651"
      ]
     },
     "execution_count": 20,
     "metadata": {},
     "output_type": "execute_result"
    }
   ],
   "source": [
    "data[data['Quantity']>0].groupby('Region')[['Quantity']].mean(numeric_only=True)"
   ]
  },
  {
   "cell_type": "code",
   "execution_count": 21,
   "id": "5b938de8-9119-476d-811e-caf2cf4ee82f",
   "metadata": {},
   "outputs": [
    {
     "data": {
      "image/png": "[encoded data removed]",
      "text/plain": [
       "<Figure size 640x480 with 1 Axes>"
      ]
     },
     "metadata": {},
     "output_type": "display_data"
    }
   ],
   "source": [
    "bars = data[data['Quantity']>0].groupby('Region')[['Quantity']].mean(numeric_only=True)\n",
    "ax = bars.plot(kind='bar', title='Mean order size by region', legend=False, rot=0)\n",
    "\n",
    "x_pos = np.arange(len(bars))\n",
    "\n",
    "for heights in ax.containers:\n",
    "    ax.bar_label(heights, fmt='%.2f') \n"
   ]
  },
  {
   "cell_type": "markdown",
   "id": "d45f0388-f71c-4bc1-bf2e-42556cea9e1b",
   "metadata": {},
   "source": [
    "## Quarterly revenue growth"
   ]
  },
  {
   "cell_type": "code",
   "execution_count": 22,
   "id": "27ff60a5-9d48-42f6-9d64-068347b78e29",
   "metadata": {},
   "outputs": [],
   "source": [
    "quarterly = list(data.groupby('Quarter')['TotalPrice'].sum())"
   ]
  },
  {
   "cell_type": "code",
   "execution_count": 23,
   "id": "5c71e434-d13f-4dea-913d-9b9039c0493b",
   "metadata": {},
   "outputs": [
    {
     "name": "stdout",
     "output_type": "stream",
     "text": [
      "The growth for quarter 2 is 12.79%\n",
      "The growth for quarter 3 is 26.14%\n",
      "The growth for quarter 4 is 41.57%\n",
      "The average growth over the year is 26.83%\n"
     ]
    }
   ],
   "source": [
    "growth = []\n",
    "\n",
    "for i in range(len(quarterly))[1:]:\n",
    "    g = (quarterly[i] - quarterly[i-1]) / quarterly[i-1] * 100\n",
    "    growth.append(g)\n",
    "    print('The growth for quarter %i is %.2f' % (i+1, g) + '%')\n",
    "\n",
    "y_growth = np.mean(growth)\n",
    "\n",
    "print('The average growth over the year is %.2f' % y_growth + '%')"
   ]
  },
  {
   "cell_type": "code",
   "execution_count": null,
   "id": "4d62c7dc-78c7-461b-8ad2-4a0f02b7ce30",
   "metadata": {},
   "outputs": [],
   "source": []
  },
  {
   "cell_type": "code",
   "execution_count": null,
   "id": "6eaa259a-da73-4c45-b10b-757d45c07c64",
   "metadata": {},
   "outputs": [],
   "source": []
  },
  {
   "cell_type": "markdown",
   "id": "251ea261-e68a-432c-a72b-9302a846c35b",
   "metadata": {},
   "source": [
    "# XYZ-Analysis\n"
   ]
  },
  {
   "cell_type": "markdown",
   "id": "0b9d8439-72ff-414b-9f1f-3e165e8c4cbb",
   "metadata": {},
   "source": [
    "\n",
    "The YXZ-analysis helps to improve the invetory management by classifying  \n",
    "individual products according to their demand variability  \n",
    "\n",
    "'X'-items have a low CV (CV <= 10%). A low CV indicates a steady demand  \n",
    "that fluctuates rarely, and a high predictability. The ability to schedule  \n",
    "is high  \n",
    "'Y'-items have a moderate CV (10 < CV <= 35). This indicates a less steady  \n",
    "demand with wilder fluctuations often due to seasonal reasons. The ability  \n",
    "to schedule is moderate.  \n",
    "'Z'-items have a high CV (CV >35), the demand is completely unsteady and   \n",
    "predictability, and the ability to schedule are low.  "
   ]
  },
  {
   "cell_type": "markdown",
   "id": "5f3b05d0-fabd-4211-9d20-a7fbb12441cd",
   "metadata": {},
   "source": [
    "**First check for Density**"
   ]
  },
  {
   "cell_type": "code",
   "execution_count": 155,
   "id": "d894a114-729b-4275-b6b1-18310a74b68e",
   "metadata": {},
   "outputs": [
    {
     "data": {
      "text/plain": [
       "Text(0.5, 1.0, 'Density of ordered products (log)')"
      ]
     },
     "execution_count": 155,
     "metadata": {},
     "output_type": "execute_result"
    },
    {
     "data": {
      "image/png": "[encoded data removed]",
      "text/plain": [
       "<Figure size 1500x500 with 2 Axes>"
      ]
     },
     "metadata": {},
     "output_type": "display_data"
    }
   ],
   "source": [
    "fig, ax = plt.subplots(1,2, figsize=(15,5))\n",
    "\n",
    "ax[0].hist(data[data['Quantity']>0].groupby('StockCode')['Quantity'].sum().sort_values()[30:-30], bins=90, log=False)\n",
    "ax[1].hist(data[data['Quantity']>0].groupby('StockCode')['Quantity'].sum().sort_values()[30:-30], bins=90, log=True)\n",
    "\n",
    "ax[0].set_xlabel(' Order Quantity')\n",
    "ax[0].set_ylabel('Products')\n",
    "ax[0].set_title('Density of ordered products')\n",
    "\n",
    "ax[1].set_xlabel(' Order Quantity')\n",
    "ax[1].set_ylabel('Products (log)')\n",
    "ax[1].set_title('Density of ordered products (log)')"
   ]
  },
  {
   "cell_type": "markdown",
   "id": "a7b24cda-7100-4ec6-af58-c7a190acfba3",
   "metadata": {},
   "source": [
    "The histogram shows that the company sells a large variety of individual products  \n",
    "at a very small quantity per product. The large product variety implies a high coefficient  \n",
    "of variation for each product and a low predictability overall. It is to be expected, that the  \n",
    "vast majority of product will fall in the 'Z' category.  "
   ]
  },
  {
   "cell_type": "markdown",
   "id": "05fad9f2-388d-44be-bbd6-0126e1a8611c",
   "metadata": {},
   "source": [
    "## Classification\n",
    "\n",
    "Grouping the StockCode quantity by month allows to calculate  \n",
    "the coefficient of variation (CV) for each product.  "
   ]
  },
  {
   "cell_type": "code",
   "execution_count": 182,
   "id": "89f2c274-c83e-48ce-95b9-b183c0eeef42",
   "metadata": {},
   "outputs": [],
   "source": [
    "stock_sum=data[data['Quantity']>0].groupby(['Month', 'StockCode'])['Quantity'].sum(numeric_only=True).to_frame()\n",
    "stock_sum.reset_index(level=[0,1], inplace=True)"
   ]
  },
  {
   "cell_type": "markdown",
   "id": "2725df25-f74e-4a7d-aa9f-bee1b57d5919",
   "metadata": {},
   "source": [
    "### Group by Product and calculate Coefficient ov Variation"
   ]
  },
  {
   "cell_type": "code",
   "execution_count": 157,
   "id": "9ebdd548-a3d7-4d64-b309-5879d53c71fe",
   "metadata": {},
   "outputs": [
    {
     "data": {
      "text/html": [
       "<div>\n",
       "<style scoped>\n",
       "    .dataframe tbody tr th:only-of-type {\n",
       "        vertical-align: middle;\n",
       "    }\n",
       "\n",
       "    .dataframe tbody tr th {\n",
       "        vertical-align: top;\n",
       "    }\n",
       "\n",
       "    .dataframe thead th {\n",
       "        text-align: right;\n",
       "    }\n",
       "</style>\n",
       "<table border=\"1\" class=\"dataframe\">\n",
       "  <thead>\n",
       "    <tr style=\"text-align: right;\">\n",
       "      <th></th>\n",
       "      <th>count</th>\n",
       "      <th>mean</th>\n",
       "      <th>std</th>\n",
       "      <th>CV</th>\n",
       "    </tr>\n",
       "    <tr>\n",
       "      <th>StockCode</th>\n",
       "      <th></th>\n",
       "      <th></th>\n",
       "      <th></th>\n",
       "      <th></th>\n",
       "    </tr>\n",
       "  </thead>\n",
       "  <tbody>\n",
       "    <tr>\n",
       "      <th>84968B</th>\n",
       "      <td>2.0</td>\n",
       "      <td>1.0</td>\n",
       "      <td>0.0</td>\n",
       "      <td>0.0</td>\n",
       "    </tr>\n",
       "    <tr>\n",
       "      <th>90003E</th>\n",
       "      <td>2.0</td>\n",
       "      <td>4.0</td>\n",
       "      <td>0.0</td>\n",
       "      <td>0.0</td>\n",
       "    </tr>\n",
       "    <tr>\n",
       "      <th>90001C</th>\n",
       "      <td>2.0</td>\n",
       "      <td>1.0</td>\n",
       "      <td>0.0</td>\n",
       "      <td>0.0</td>\n",
       "    </tr>\n",
       "    <tr>\n",
       "      <th>90001B</th>\n",
       "      <td>2.0</td>\n",
       "      <td>2.0</td>\n",
       "      <td>0.0</td>\n",
       "      <td>0.0</td>\n",
       "    </tr>\n",
       "    <tr>\n",
       "      <th>22987</th>\n",
       "      <td>4.0</td>\n",
       "      <td>25.0</td>\n",
       "      <td>0.0</td>\n",
       "      <td>0.0</td>\n",
       "    </tr>\n",
       "    <tr>\n",
       "      <th>...</th>\n",
       "      <td>...</td>\n",
       "      <td>...</td>\n",
       "      <td>...</td>\n",
       "      <td>...</td>\n",
       "    </tr>\n",
       "    <tr>\n",
       "      <th>90214O</th>\n",
       "      <td>1.0</td>\n",
       "      <td>12.0</td>\n",
       "      <td>NaN</td>\n",
       "      <td>NaN</td>\n",
       "    </tr>\n",
       "    <tr>\n",
       "      <th>90214T</th>\n",
       "      <td>1.0</td>\n",
       "      <td>12.0</td>\n",
       "      <td>NaN</td>\n",
       "      <td>NaN</td>\n",
       "    </tr>\n",
       "    <tr>\n",
       "      <th>90214U</th>\n",
       "      <td>1.0</td>\n",
       "      <td>12.0</td>\n",
       "      <td>NaN</td>\n",
       "      <td>NaN</td>\n",
       "    </tr>\n",
       "    <tr>\n",
       "      <th>90214W</th>\n",
       "      <td>1.0</td>\n",
       "      <td>12.0</td>\n",
       "      <td>NaN</td>\n",
       "      <td>NaN</td>\n",
       "    </tr>\n",
       "    <tr>\n",
       "      <th>90214Z</th>\n",
       "      <td>1.0</td>\n",
       "      <td>12.0</td>\n",
       "      <td>NaN</td>\n",
       "      <td>NaN</td>\n",
       "    </tr>\n",
       "  </tbody>\n",
       "</table>\n",
       "<p>3665 rows × 4 columns</p>\n",
       "</div>"
      ],
      "text/plain": [
       "           count  mean  std   CV\n",
       "StockCode                       \n",
       "84968B       2.0   1.0  0.0  0.0\n",
       "90003E       2.0   4.0  0.0  0.0\n",
       "90001C       2.0   1.0  0.0  0.0\n",
       "90001B       2.0   2.0  0.0  0.0\n",
       "22987        4.0  25.0  0.0  0.0\n",
       "...          ...   ...  ...  ...\n",
       "90214O       1.0  12.0  NaN  NaN\n",
       "90214T       1.0  12.0  NaN  NaN\n",
       "90214U       1.0  12.0  NaN  NaN\n",
       "90214W       1.0  12.0  NaN  NaN\n",
       "90214Z       1.0  12.0  NaN  NaN\n",
       "\n",
       "[3665 rows x 4 columns]"
      ]
     },
     "execution_count": 157,
     "metadata": {},
     "output_type": "execute_result"
    }
   ],
   "source": [
    "stock_stat=stock_sum.groupby('StockCode')['Quantity'].describe()\n",
    "stock_stat['CV'] = stock_stat['std'] / stock_stat['mean'] *100\n",
    "stock_stat.drop(['min', 'max', '25%', '50%', '75%'], axis=1, inplace=True)\n",
    "stock_stat.sort_values('CV')"
   ]
  },
  {
   "cell_type": "markdown",
   "id": "9d5cd7c9-048b-418d-a595-2a2543b28d3e",
   "metadata": {},
   "source": [
    "### Categorising Products\n",
    "\n",
    "Some products have a standard deviation of 0 which results in a CV of 0.   \n",
    "The CV has to be set to NaN since this data is useless for the analysis.  \n",
    "\n",
    "Products with missing CV values have a count of 1 or a std of 0. These products  \n",
    "have been sold very infrequently and thus qualify as 'Z' items.  \n",
    "\n",
    "The remaining data is categorised by CV.  "
   ]
  },
  {
   "cell_type": "code",
   "execution_count": 158,
   "id": "7fa4c0a5-bf51-4eef-a2cc-52a678fb5bd9",
   "metadata": {},
   "outputs": [],
   "source": [
    "def get_xyz(x):\n",
    "    if pd.notnull(x):\n",
    "        if 0 < x <= 10:\n",
    "            return 'X'\n",
    "        elif 10 <  x <= 35:\n",
    "            return 'Y'\n",
    "        else:\n",
    "            return 'Z'\n",
    "    else:\n",
    "        return np.nan"
   ]
  },
  {
   "cell_type": "code",
   "execution_count": 165,
   "id": "97950699-2234-4297-9127-3ddd131b9cdb",
   "metadata": {},
   "outputs": [],
   "source": [
    "stock_stat['CV'] = stock_stat['CV'].apply(lambda x: np.nan if x==0 else x)\n",
    "stock_stat['XYZ'] = stock_stat['CV'].apply(get_xyz)"
   ]
  },
  {
   "cell_type": "markdown",
   "id": "cafebf15-2b91-4f5c-ba3d-4dfcdad8f718",
   "metadata": {},
   "source": [
    "## Results"
   ]
  },
  {
   "cell_type": "markdown",
   "id": "0ae84748-b709-49d2-b1d0-430e15e4f441",
   "metadata": {},
   "source": [
    "**Distribution of XYZ-Analysis**"
   ]
  },
  {
   "cell_type": "code",
   "execution_count": 164,
   "id": "29515594-24c3-46a5-909b-e13a01f89e02",
   "metadata": {},
   "outputs": [
    {
     "data": {
      "text/html": [
       "<div>\n",
       "<style scoped>\n",
       "    .dataframe tbody tr th:only-of-type {\n",
       "        vertical-align: middle;\n",
       "    }\n",
       "\n",
       "    .dataframe tbody tr th {\n",
       "        vertical-align: top;\n",
       "    }\n",
       "\n",
       "    .dataframe thead th {\n",
       "        text-align: right;\n",
       "    }\n",
       "</style>\n",
       "<table border=\"1\" class=\"dataframe\">\n",
       "  <thead>\n",
       "    <tr style=\"text-align: right;\">\n",
       "      <th></th>\n",
       "      <th>count</th>\n",
       "      <th>XYZ_%</th>\n",
       "    </tr>\n",
       "    <tr>\n",
       "      <th>XYZ</th>\n",
       "      <th></th>\n",
       "      <th></th>\n",
       "    </tr>\n",
       "  </thead>\n",
       "  <tbody>\n",
       "    <tr>\n",
       "      <th>Z</th>\n",
       "      <td>3230</td>\n",
       "      <td>95.280236</td>\n",
       "    </tr>\n",
       "    <tr>\n",
       "      <th>Y</th>\n",
       "      <td>154</td>\n",
       "      <td>4.542773</td>\n",
       "    </tr>\n",
       "    <tr>\n",
       "      <th>X</th>\n",
       "      <td>6</td>\n",
       "      <td>0.176991</td>\n",
       "    </tr>\n",
       "  </tbody>\n",
       "</table>\n",
       "</div>"
      ],
      "text/plain": [
       "     count      XYZ_%\n",
       "XYZ                  \n",
       "Z     3230  95.280236\n",
       "Y      154   4.542773\n",
       "X        6   0.176991"
      ]
     },
     "execution_count": 164,
     "metadata": {},
     "output_type": "execute_result"
    }
   ],
   "source": [
    "xyz = stock_stat['XYZ'].value_counts()\n",
    "xyz = xyz.reset_index()\n",
    "xyz['XYZ_%'] = xyz['count'] / xyz['count'].sum() * 100\n",
    "xyz.set_index('XYZ')"
   ]
  },
  {
   "cell_type": "markdown",
   "id": "f02e613f-252a-4ead-bc4d-9cdae8d36e9c",
   "metadata": {},
   "source": [
    "**Products with lowest CV**"
   ]
  },
  {
   "cell_type": "code",
   "execution_count": 176,
   "id": "81494f59-4288-4fb5-b33f-9cb397937887",
   "metadata": {},
   "outputs": [
    {
     "data": {
      "text/html": [
       "<div>\n",
       "<style scoped>\n",
       "    .dataframe tbody tr th:only-of-type {\n",
       "        vertical-align: middle;\n",
       "    }\n",
       "\n",
       "    .dataframe tbody tr th {\n",
       "        vertical-align: top;\n",
       "    }\n",
       "\n",
       "    .dataframe thead th {\n",
       "        text-align: right;\n",
       "    }\n",
       "</style>\n",
       "<table border=\"1\" class=\"dataframe\">\n",
       "  <thead>\n",
       "    <tr style=\"text-align: right;\">\n",
       "      <th></th>\n",
       "      <th>count</th>\n",
       "      <th>mean</th>\n",
       "      <th>std</th>\n",
       "      <th>CV</th>\n",
       "      <th>XYZ</th>\n",
       "    </tr>\n",
       "    <tr>\n",
       "      <th>StockCode</th>\n",
       "      <th></th>\n",
       "      <th></th>\n",
       "      <th></th>\n",
       "      <th></th>\n",
       "      <th></th>\n",
       "    </tr>\n",
       "  </thead>\n",
       "  <tbody>\n",
       "    <tr>\n",
       "      <th>23598</th>\n",
       "      <td>2.0</td>\n",
       "      <td>210.500000</td>\n",
       "      <td>0.707107</td>\n",
       "      <td>0.335918</td>\n",
       "      <td>X</td>\n",
       "    </tr>\n",
       "    <tr>\n",
       "      <th>85118</th>\n",
       "      <td>2.0</td>\n",
       "      <td>71.000000</td>\n",
       "      <td>1.414214</td>\n",
       "      <td>1.991850</td>\n",
       "      <td>X</td>\n",
       "    </tr>\n",
       "    <tr>\n",
       "      <th>23448</th>\n",
       "      <td>2.0</td>\n",
       "      <td>12.500000</td>\n",
       "      <td>0.707107</td>\n",
       "      <td>5.656854</td>\n",
       "      <td>X</td>\n",
       "    </tr>\n",
       "    <tr>\n",
       "      <th>90214I</th>\n",
       "      <td>2.0</td>\n",
       "      <td>12.500000</td>\n",
       "      <td>0.707107</td>\n",
       "      <td>5.656854</td>\n",
       "      <td>X</td>\n",
       "    </tr>\n",
       "    <tr>\n",
       "      <th>35597D</th>\n",
       "      <td>2.0</td>\n",
       "      <td>23.000000</td>\n",
       "      <td>1.414214</td>\n",
       "      <td>6.148755</td>\n",
       "      <td>X</td>\n",
       "    </tr>\n",
       "    <tr>\n",
       "      <th>21392</th>\n",
       "      <td>2.0</td>\n",
       "      <td>16.000000</td>\n",
       "      <td>1.414214</td>\n",
       "      <td>8.838835</td>\n",
       "      <td>X</td>\n",
       "    </tr>\n",
       "    <tr>\n",
       "      <th>23412</th>\n",
       "      <td>2.0</td>\n",
       "      <td>175.500000</td>\n",
       "      <td>20.506097</td>\n",
       "      <td>11.684386</td>\n",
       "      <td>Y</td>\n",
       "    </tr>\n",
       "    <tr>\n",
       "      <th>10124G</th>\n",
       "      <td>4.0</td>\n",
       "      <td>4.250000</td>\n",
       "      <td>0.500000</td>\n",
       "      <td>11.764706</td>\n",
       "      <td>Y</td>\n",
       "    </tr>\n",
       "    <tr>\n",
       "      <th>85028S</th>\n",
       "      <td>2.0</td>\n",
       "      <td>12.000000</td>\n",
       "      <td>1.414214</td>\n",
       "      <td>11.785113</td>\n",
       "      <td>Y</td>\n",
       "    </tr>\n",
       "    <tr>\n",
       "      <th>23305</th>\n",
       "      <td>3.0</td>\n",
       "      <td>27.333333</td>\n",
       "      <td>3.511885</td>\n",
       "      <td>12.848358</td>\n",
       "      <td>Y</td>\n",
       "    </tr>\n",
       "  </tbody>\n",
       "</table>\n",
       "</div>"
      ],
      "text/plain": [
       "           count        mean        std         CV XYZ\n",
       "StockCode                                             \n",
       "23598        2.0  210.500000   0.707107   0.335918   X\n",
       "85118        2.0   71.000000   1.414214   1.991850   X\n",
       "23448        2.0   12.500000   0.707107   5.656854   X\n",
       "90214I       2.0   12.500000   0.707107   5.656854   X\n",
       "35597D       2.0   23.000000   1.414214   6.148755   X\n",
       "21392        2.0   16.000000   1.414214   8.838835   X\n",
       "23412        2.0  175.500000  20.506097  11.684386   Y\n",
       "10124G       4.0    4.250000   0.500000  11.764706   Y\n",
       "85028S       2.0   12.000000   1.414214  11.785113   Y\n",
       "23305        3.0   27.333333   3.511885  12.848358   Y"
      ]
     },
     "execution_count": 176,
     "metadata": {},
     "output_type": "execute_result"
    }
   ],
   "source": [
    "stock_stat.sort_values('CV').head(10)"
   ]
  },
  {
   "cell_type": "markdown",
   "id": "4be07d41-0045-4da9-8956-b1e41b15a469",
   "metadata": {},
   "source": [
    "## Interpretation\n",
    "\n",
    "As expected, the number of 'X' and 'Y' products is very low. However, even  \n",
    "these products have been sold very unfrequently, the table above shows that  \n",
    "most of the top 10 (by CV) products have only been sold in two month of the year.  \n",
    "\n",
    "The small amount of datapoints for these products is insuficient  \n",
    "to calculate the coefficient of variation and causes an incorrect   \n",
    "classification of these products. Thus, it can be assumed, that all  \n",
    "products have a high degree of variability. The following table   \n",
    "further supports this thesis, as it shows that the assumed 'X'   \n",
    "products have been sold very infrequent and at a very small number.  "
   ]
  },
  {
   "cell_type": "code",
   "execution_count": 175,
   "id": "cf113fc2-ebbb-4d4b-987a-33f3e4249ff1",
   "metadata": {},
   "outputs": [
    {
     "data": {
      "text/html": [
       "<div>\n",
       "<style scoped>\n",
       "    .dataframe tbody tr th:only-of-type {\n",
       "        vertical-align: middle;\n",
       "    }\n",
       "\n",
       "    .dataframe tbody tr th {\n",
       "        vertical-align: top;\n",
       "    }\n",
       "\n",
       "    .dataframe thead th {\n",
       "        text-align: right;\n",
       "    }\n",
       "</style>\n",
       "<table border=\"1\" class=\"dataframe\">\n",
       "  <thead>\n",
       "    <tr style=\"text-align: right;\">\n",
       "      <th></th>\n",
       "      <th></th>\n",
       "      <th></th>\n",
       "      <th>Quantity</th>\n",
       "    </tr>\n",
       "    <tr>\n",
       "      <th>StockCode</th>\n",
       "      <th>Description</th>\n",
       "      <th>Month</th>\n",
       "      <th></th>\n",
       "    </tr>\n",
       "  </thead>\n",
       "  <tbody>\n",
       "    <tr>\n",
       "      <th rowspan=\"2\" valign=\"top\">21392</th>\n",
       "      <th rowspan=\"2\" valign=\"top\">RED POLKADOT PUDDING BOWL</th>\n",
       "      <th>3</th>\n",
       "      <td>17</td>\n",
       "    </tr>\n",
       "    <tr>\n",
       "      <th>12</th>\n",
       "      <td>15</td>\n",
       "    </tr>\n",
       "    <tr>\n",
       "      <th rowspan=\"2\" valign=\"top\">23448</th>\n",
       "      <th rowspan=\"2\" valign=\"top\">CREAM BUNNY EASTER EGG BASKET</th>\n",
       "      <th>10</th>\n",
       "      <td>13</td>\n",
       "    </tr>\n",
       "    <tr>\n",
       "      <th>11</th>\n",
       "      <td>12</td>\n",
       "    </tr>\n",
       "    <tr>\n",
       "      <th rowspan=\"2\" valign=\"top\">23598</th>\n",
       "      <th rowspan=\"2\" valign=\"top\">PAPER BUNTING VINTAGE PARTY</th>\n",
       "      <th>11</th>\n",
       "      <td>210</td>\n",
       "    </tr>\n",
       "    <tr>\n",
       "      <th>12</th>\n",
       "      <td>211</td>\n",
       "    </tr>\n",
       "    <tr>\n",
       "      <th rowspan=\"2\" valign=\"top\">85118</th>\n",
       "      <th rowspan=\"2\" valign=\"top\">HEART T-LIGHT HOLDER</th>\n",
       "      <th>1</th>\n",
       "      <td>72</td>\n",
       "    </tr>\n",
       "    <tr>\n",
       "      <th>12</th>\n",
       "      <td>70</td>\n",
       "    </tr>\n",
       "    <tr>\n",
       "      <th rowspan=\"2\" valign=\"top\">35597D</th>\n",
       "      <th rowspan=\"2\" valign=\"top\">PINK/WHITE CHRISTMAS TREE 30CM</th>\n",
       "      <th>8</th>\n",
       "      <td>24</td>\n",
       "    </tr>\n",
       "    <tr>\n",
       "      <th>9</th>\n",
       "      <td>22</td>\n",
       "    </tr>\n",
       "    <tr>\n",
       "      <th rowspan=\"2\" valign=\"top\">90214I</th>\n",
       "      <th rowspan=\"2\" valign=\"top\">LETTER \"I\" BLING KEY RING</th>\n",
       "      <th>7</th>\n",
       "      <td>12</td>\n",
       "    </tr>\n",
       "    <tr>\n",
       "      <th>12</th>\n",
       "      <td>13</td>\n",
       "    </tr>\n",
       "  </tbody>\n",
       "</table>\n",
       "</div>"
      ],
      "text/plain": [
       "                                                Quantity\n",
       "StockCode Description                    Month          \n",
       "21392     RED POLKADOT PUDDING BOWL      3            17\n",
       "                                         12           15\n",
       "23448     CREAM BUNNY EASTER EGG BASKET  10           13\n",
       "                                         11           12\n",
       "23598     PAPER BUNTING VINTAGE PARTY    11          210\n",
       "                                         12          211\n",
       "85118     HEART T-LIGHT HOLDER           1            72\n",
       "                                         12           70\n",
       "35597D    PINK/WHITE CHRISTMAS TREE 30CM 8            24\n",
       "                                         9            22\n",
       "90214I    LETTER \"I\" BLING KEY RING      7            12\n",
       "                                         12           13"
      ]
     },
     "execution_count": 175,
     "metadata": {},
     "output_type": "execute_result"
    }
   ],
   "source": [
    "x = stock_stat.reset_index().sort_values('CV').head(6)['StockCode']\n",
    "data[(data['StockCode'].isin(x)) & (data['Quantity']>0)].\\\n",
    "    groupby(['StockCode', 'Description', 'Month'])['Quantity'].sum(numeric_only=True).to_frame()"
   ]
  },
  {
   "cell_type": "code",
   "execution_count": null,
   "id": "197b9f0e-9652-4359-b797-bdaa1ba07163",
   "metadata": {},
   "outputs": [],
   "source": []
  }
 ],
 "metadata": {
  "kernelspec": {
   "display_name": "Python 3 (ipykernel)",
   "language": "python",
   "name": "python3"
  },
  "language_info": {
   "codemirror_mode": {
    "name": "ipython",
    "version": 3
   },
   "file_extension": ".py",
   "mimetype": "text/x-python",
   "name": "python",
   "nbconvert_exporter": "python",
   "pygments_lexer": "ipython3",
   "version": "3.11.2"
  }
 },
 "nbformat": 4,
 "nbformat_minor": 5
}
